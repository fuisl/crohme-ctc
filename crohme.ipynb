{
 "cells": [
  {
   "cell_type": "markdown",
   "metadata": {},
   "source": [
    "## **CROHME Temporal Sequence Classification (CROHME-CTC) Baseline**"
   ]
  },
  {
   "cell_type": "markdown",
   "metadata": {},
   "source": [
    "### Dependencies\n",
    "\n",
    "Run the following command to install the required dependencies:\n",
    "\n",
    "```bash\n",
    "!pip install -q -r requirements.txt\n",
    "```"
   ]
  },
  {
   "cell_type": "code",
   "execution_count": 71,
   "metadata": {},
   "outputs": [],
   "source": [
    "# !pip install -q -r requirements.txt  TODO: export requirements.txt"
   ]
  },
  {
   "cell_type": "markdown",
   "metadata": {},
   "source": []
  },
  {
   "cell_type": "code",
   "execution_count": 1,
   "metadata": {},
   "outputs": [],
   "source": [
    "import torch\n",
    "import torch.nn as nn\n",
    "import torch.nn.functional as F\n",
    "import torch.optim as optim\n",
    "from torch.utils.data import DataLoader, Dataset\n",
    "\n",
    "import numpy as np\n",
    "import os\n",
    "\n",
    "import pytorch_lightning as pl\n",
    "from pytorch_lightning import Trainer\n",
    "from pytorch_lightning.callbacks import ModelCheckpoint\n",
    "from pytorch_lightning.loggers import TensorBoardLogger\n",
    "\n",
    "import xml.etree.ElementTree as ET\n",
    "from torch.nn.utils.rnn import pad_sequence\n",
    "\n",
    "import matplotlib.pyplot as plt"
   ]
  },
  {
   "cell_type": "markdown",
   "metadata": {},
   "source": [
    "### Task 1: Build Vocabulary\n",
    "\n",
    "In this task, we will build a vocabulary from all dataset files _(train, valid, and test)_. The vocabulary will be used to convert the characters in the data to integers.\n",
    "\n",
    "The vocabulary will then be used in the next task to convert the characters in the data to integers.\n",
    "\n",
    "> _You can either save the vocabulary into a JSON file, or you can simply pass into the dataset as an argument._\n",
    "\n",
    "***Input***: the path to the dataset files _(train, valid, and test)_.\n",
    "\n",
    "\n",
    "```python\n",
    "paths = [\n",
    "    \"dataset/crohme2019_train.txt\",\n",
    "    \"dataset/crohme2019_test.txt\",\n",
    "    \"dataset/crohme2019_valid.txt\",\n",
    "]\n",
    "```\n",
    "\n",
    "***Output***: the vocabulary.\n",
    "\n",
    "```python\n",
    "vocab = {\n",
    "    \"a\": 0,\n",
    "    \"b\": 1,\n",
    "    \"c\": 2,\n",
    "    ...\n",
    "}\n",
    "```"
   ]
  },
  {
   "cell_type": "markdown",
   "metadata": {},
   "source": [
    "#### Understand the Data\n",
    "\n",
    "Let's first inspect our dataset files."
   ]
  },
  {
   "cell_type": "code",
   "execution_count": null,
   "metadata": {},
   "outputs": [],
   "source": [
    "paths = [\n",
    "    \"dataset/crohme2019_train.txt\",\n",
    "    \"dataset/crohme2019_test.txt\",\n",
    "    \"dataset/crohme2019_valid.txt\",\n",
    "]  # adjust this based on your dataset location\n",
    "\n",
    "for path in paths:\n",
    "    with open(path, \"r\") as f:\n",
    "        data = f.readlines()\n",
    "        print(type(data), len(data), end=\"\\n\")\n",
    "        print(data, end=\"\\n\\n\")"
   ]
  },
  {
   "cell_type": "markdown",
   "metadata": {},
   "source": [
    "Base on the observation, how can we build a vocabulary from the dataset files?\n",
    "\n",
    "#### Build Vocabulary\n",
    "\n",
    "> **TASK: IMPLEMENT `get_unique_chars(path)` and `get_char2idx(unique_chars)`.**\n",
    "\n",
    "\n",
    "***Hints:***\n",
    " - *Understand the structure/format in each line.*\n",
    " - *Iterate through our data and get **unique** characters for our vocabulary.*"
   ]
  },
  {
   "cell_type": "code",
   "execution_count": null,
   "metadata": {},
   "outputs": [],
   "source": [
    "def get_unique_chars(paths) -> set:\n",
    "    # Your code here\n",
    "    pass\n",
    "\n",
    "\n",
    "def get_char2idx(unique_chars) -> dict:\n",
    "    # Your code here\n",
    "    pass\n",
    "\n",
    "\n",
    "assert len(get_unique_chars(paths)) == 109  # 109 unique characters in the dataset"
   ]
  },
  {
   "cell_type": "markdown",
   "metadata": {},
   "source": [
    "### Task 2: Build Dataset\n",
    "\n",
    "In this task, we will build a dataset class that will be used to load the dataset files _(train, valid, and test)_.\n",
    "\n",
    "The dataset class will also be used to preprocess the data by converting the characters in the data to integers using the vocabulary.\n",
    "\n",
    "> _Before going to this task, it is **highly recommended** to read this [Tutorial on creating Custom Dataset](https://pytorch.org/tutorials/beginner/basics/data_tutorial.html#creating-a-custom-dataset-for-your-files) with PyTorch._\n",
    ">\n",
    "> _You should have basic understanding of required methods in the Dataset class such as `__init__`, `__len__`, and `__getitem__`._\n",
    "\n",
    "\n",
    "***Input***: Dataset class should take the following arguments:.\n",
    "\n",
    "- `annotation`: the path to the dataset annotation *(`.txt`)*.\n",
    "- `root_dir`: the root directory of the dataset file.\n",
    "- `vocab`: the vocabulary.\n",
    "\n",
    "***Output***: the dataset class.\n",
    "\n",
    "> *Note: You can adjust the Dataset class base on your references.*\n"
   ]
  },
  {
   "cell_type": "markdown",
   "metadata": {},
   "source": [
    "#### Handle Inkml Files\n",
    "\n",
    "Below is a class structure for handling `.inkml` files."
   ]
  },
  {
   "cell_type": "code",
   "execution_count": 74,
   "metadata": {},
   "outputs": [],
   "source": [
    "class Segment(object):\n",
    "    \"\"\"Class to reprsent a Segment compound of strokes (id) with an id and label.\"\"\"\n",
    "\n",
    "    __slots__ = (\"id\", \"label\", \"strId\")\n",
    "\n",
    "    def __init__(self, *args):\n",
    "        if len(args) == 3:\n",
    "            self.id = args[0]\n",
    "            self.label = args[1]\n",
    "            self.strId = args[2]\n",
    "        else:\n",
    "            self.id = \"none\"\n",
    "            self.label = \"\"\n",
    "            self.strId = set([])\n",
    "\n",
    "\n",
    "class Inkml(object):\n",
    "    \"\"\"Class to represent an INKML file with strokes, segmentation and labels\"\"\"\n",
    "\n",
    "    __slots__ = (\"fileName\", \"strokes\", \"strkOrder\", \"segments\", \"truth\", \"UI\")\n",
    "\n",
    "    NS = {\n",
    "        \"ns\": \"http://www.w3.org/2003/InkML\",\n",
    "        \"xml\": \"http://www.w3.org/XML/1998/namespace\",\n",
    "    }\n",
    "\n",
    "    def __init__(self, *args):\n",
    "        self.fileName = None\n",
    "        self.strokes = {}\n",
    "        self.strkOrder = []\n",
    "        self.segments = {}\n",
    "        self.truth = \"\"\n",
    "        self.UI = \"\"\n",
    "        if len(args) == 1:\n",
    "            self.fileName = args[0]\n",
    "            self.loadFromFile()\n",
    "\n",
    "    def fixNS(self, ns, att):\n",
    "        \"\"\"Build the right tag or element name with namespace\"\"\"\n",
    "        return \"{\" + Inkml.NS[ns] + \"}\" + att\n",
    "\n",
    "    def loadFromFile(self):\n",
    "        \"\"\"load the ink from an inkml file (strokes, segments, labels)\"\"\"\n",
    "        tree = ET.parse(self.fileName)\n",
    "        # # ET.register_namespace();\n",
    "        root = tree.getroot()\n",
    "        for info in root.findall(\"ns:annotation\", namespaces=Inkml.NS):\n",
    "            if \"type\" in info.attrib:\n",
    "                if info.attrib[\"type\"] == \"truth\":\n",
    "                    self.truth = info.text.strip()\n",
    "                if info.attrib[\"type\"] == \"UI\":\n",
    "                    self.UI = info.text.strip()\n",
    "        for strk in root.findall(\"ns:trace\", namespaces=Inkml.NS):\n",
    "            self.strokes[strk.attrib[\"id\"]] = strk.text.strip()\n",
    "            self.strkOrder.append(strk.attrib[\"id\"])\n",
    "        segments = root.find(\"ns:traceGroup\", namespaces=Inkml.NS)\n",
    "        if segments is None or len(segments) == 0:\n",
    "            return\n",
    "        for seg in segments.iterfind(\"ns:traceGroup\", namespaces=Inkml.NS):\n",
    "            id = seg.attrib[self.fixNS(\"xml\", \"id\")]\n",
    "            label = seg.find(\"ns:annotation\", namespaces=Inkml.NS).text\n",
    "            strkList = set([])\n",
    "            for t in seg.findall(\"ns:traceView\", namespaces=Inkml.NS):\n",
    "                strkList.add(t.attrib[\"traceDataRef\"])\n",
    "            self.segments[id] = Segment(id, label, strkList)\n",
    "\n",
    "    def getTraces(self, height=256):\n",
    "        traces_array = [\n",
    "            np.array(\n",
    "                [p.strip().split() for p in self.strokes[id].split(\",\")], dtype=\"float\"\n",
    "            )\n",
    "            for id in self.strkOrder\n",
    "        ]\n",
    "\n",
    "        ratio = height / (\n",
    "            (\n",
    "                np.concatenate(traces_array, 0).max(0)\n",
    "                - np.concatenate(traces_array, 0).min(0)\n",
    "            )[1]\n",
    "            + 1e-6\n",
    "        )\n",
    "        return [(trace * ratio).astype(int).tolist() for trace in traces_array]"
   ]
  },
  {
   "cell_type": "markdown",
   "metadata": {},
   "source": [
    "`Inkml` class is used to read an inkml file and extract the strokes and the corresponding label.\n",
    "\n",
    "***Input***: the path to the inkml file.\n",
    "\n",
    "***Output***: Inkml object that can be used to extract the strokes."
   ]
  },
  {
   "cell_type": "code",
   "execution_count": 73,
   "metadata": {},
   "outputs": [
    {
     "data": {
      "image/png": "[encoded data removed]",
      "text/plain": [
       "<Figure size 1600x400 with 1 Axes>"
      ]
     },
     "metadata": {},
     "output_type": "display_data"
    }
   ],
   "source": [
    "def visualize_inkml(ink_obj: Inkml):\n",
    "    ink = ink_obj\n",
    "\n",
    "    plt.figure(figsize=(16, 4))\n",
    "    plt.axis(\"off\")\n",
    "    for trace in ink.getTraces():\n",
    "        trace_arr = np.array(trace)\n",
    "        plt.plot(trace_arr[:, 0], -trace_arr[:, 1])  # invert y coordinate\n",
    "\n",
    "\n",
    "path = \"dataset/crohme2019/crohme2019/test/ISICal19_1201_em_758.inkml\"\n",
    "ink = Inkml(path)\n",
    "visualize_inkml(ink)"
   ]
  },
  {
   "cell_type": "markdown",
   "metadata": {},
   "source": [
    "> **TASK: UNDERSTAND AND HANDLE OUTPUT OF `getTraces()` METHOD IN `Inkml` CLASS.**"
   ]
  },
  {
   "cell_type": "code",
   "execution_count": null,
   "metadata": {},
   "outputs": [],
   "source": [
    "ink = Inkml(path)\n",
    "[np.array(trace).shape for trace in ink.getTraces()]  # [(n, 2), (n, 2), ...]"
   ]
  },
  {
   "cell_type": "markdown",
   "metadata": {},
   "source": [
    "**WARNING**: _Some Inkml may return (x, y, t) coordinates, while others may return (x, y) coordinates. Make sure to handle this in your implementation._"
   ]
  },
  {
   "cell_type": "markdown",
   "metadata": {},
   "source": [
    "Now you have the idea of how to read an inkml file, let's build the Dataset class.\n",
    "\n",
    "#### Build Dataset\n",
    "\n",
    "Base on the observation, how can we build a dataset class from the dataset files?\n",
    "\n",
    "***Hints:***\n",
    "   - *Understand the big picture. (Data --> Dataset --> DataLoader --> Model --> Output --> Calculate Loss --> Backpropagation)*\n",
    "   - *What do our model expect to get? In other words, what information is being fed into our model to calculate the loss?*\n",
    "   - *What informations needed to calculate our Loss?*\n",
    "   - *What should be returned in the `__getitem__` method?*\n",
    "   - *The outputs should be of Tensor type*\n"
   ]
  },
  {
   "cell_type": "markdown",
   "metadata": {},
   "source": [
    "> **TASK: IMPLEMENT `InkmlDataset` CLASS.**"
   ]
  },
  {
   "cell_type": "code",
   "execution_count": null,
   "metadata": {},
   "outputs": [],
   "source": [
    "class InkmlDataset(Dataset):\n",
    "    def __init__(self, annotation: str, root_dir: str, vocab: dict):\n",
    "        # Your code here\n",
    "        self.annotation = annotation\n",
    "        self.root_dir = root_dir\n",
    "        self.vocab = vocab\n",
    "\n",
    "        self.inks = []  # list of Inkml objects\n",
    "        self.labels = []  # list of labels\n",
    "\n",
    "        # Your code for create self.inks and self.labels from the annotation file\n",
    "\n",
    "    def __len__(self):\n",
    "        # This code should return the number of samples in the dataset\n",
    "        pass\n",
    "\n",
    "    def __getitem__(self, idx):\n",
    "        # This code should return the idx-th sample in the dataset\n",
    "\n",
    "        pass"
   ]
  },
  {
   "cell_type": "markdown",
   "metadata": {},
   "source": [
    "#### Feature representation\n",
    "\n",
    "In this subtask, we will convert the strokes into feature representations that can be used by the model.\n",
    "\n",
    "Initially, the `.getTraces()` method returns list of strokes, where each stroke is a list of (x, y) coordinates. Intuitively, we can use those coordinates as features. But if we directly use the coordinates, the model will have a hard time learning the patterns.\n",
    "\n",
    "Instead, we can calculate the difference *(∆d)* between consecutive coordinates as features. This way, the model can learn the patterns more easily.\n",
    "\n",
    "```\n",
    "point 1: (x1, y1)\n",
    "point 2: (x2, y2)\n",
    "point 3: (x3, y3)\n",
    "...\n",
    "point n: (xn, yn)\n",
    "```\n",
    "\n",
    "The feature representation will be:\n",
    "\n",
    "```\n",
    "∆d1 = (x2 - x1, y2 - y1)\n",
    "∆d2 = (x3 - x2, y3 - y2)\n",
    "∆d3 = (x4 - x3, y4 - y3)\n",
    "...\n",
    "∆dn-1 = (xn - xn-1, yn - yn-1)\n",
    "```"
   ]
  },
  {
   "cell_type": "markdown",
   "metadata": {},
   "source": [
    "> **TASK: CALCULATE `(∆X, ∆Y)` FOR INPUT FEATURE.**"
   ]
  },
  {
   "cell_type": "markdown",
   "metadata": {},
   "source": [
    "#### Pen-up and Pen-down\n",
    "\n",
    "In the dataset, each stroke is separated by a pen-up event. We can use this information to separate the strokes.\n",
    "\n",
    "1. **Pen-up [0]**: The pen is lifted from the paper.\n",
    "2. **Pen-down [1]**: The pen is on the paper.\n",
    "\n",
    "Use this information to separate the strokes."
   ]
  },
  {
   "cell_type": "markdown",
   "metadata": {},
   "source": [
    "> **TASK: ADD FEATURE `pen_up_down` TO `(∆X, ∆Y)` -> `(∆X, ∆Y, pen_up_down)`**"
   ]
  },
  {
   "cell_type": "markdown",
   "metadata": {},
   "source": [
    "### Task 3: Build DataLoader\n",
    "\n",
    "In this task, we will build a DataLoader that will be used to load the dataset.\n",
    "\n",
    "> _Before going to this task, it is **highly recommended** to read this [Prepare your data for training with DataLoader](https://pytorch.org/tutorials/beginner/basics/data_tutorial.html#preparing-your-data-for-training-with-dataloaders)._\n",
    "\n",
    "\n",
    "***Input***: DataLoader class should take the following arguments:\n",
    "\n",
    "- `dataset`: the dataset class.\n",
    "- `batch_size`: the batch size.\n",
    "- `shuffle`: whether to shuffle the data.\n",
    "- `num_workers`: the number of workers to load the data.\n",
    "- `collate_fn`: custom function to collate the data.\n",
    "\n",
    "***Output***: the DataLoader class.\n",
    "\n",
    "> *Note: You don't need to redefine DataLoader class. However, you need to redefine its collate function.*"
   ]
  },
  {
   "cell_type": "markdown",
   "metadata": {},
   "source": [
    "#### Custom Collate Function\n",
    "\n",
    "A collate function is used in PyTorch's DataLoader to define how individual samples from a dataset should be combined into a batch. \n",
    "\n",
    "By default, the DataLoader assumes that each sample is a tensor, and it concatenates them along a new dimension to form a batch. However, if the samples have varying sizes, such as in the case of sequences of different lengths, we need a custom collate function to handle this.\n",
    "\n",
    "To handle sequences of different lengths, one common approach is to use the `pad_sequence` function from PyTorch. `pad_sequence` pads the sequences with zeros to make them of equal length, ensuring that they can be stacked into a batch.\n",
    "\n",
    "> _You can read more about [pad_sequence](https://pytorch.org/docs/stable/generated/torch.nn.utils.rnn.pad_sequence.html). to implement our `custom_collate_fn()`._\n",
    "\n",
    "> **TASK: IMPLEMENT `custom_collate_fn(batch)` FUNCTION.**"
   ]
  },
  {
   "cell_type": "code",
   "execution_count": 77,
   "metadata": {},
   "outputs": [],
   "source": [
    "def custom_collate_fn(batch):\n",
    "    # Your code here\n",
    "    pass"
   ]
  },
  {
   "cell_type": "markdown",
   "metadata": {},
   "source": [
    "#### Create DataLoader\n",
    "\n",
    "From the dataset class, how can we build a DataLoader with custom collate function?\n",
    "\n",
    "> **TASK: IMPLEMENT `get_dataloader()` FUNCTION.**\n",
    "\n",
    "***Hints:***\n",
    " - `DataLoader` class takes the dataset, batch size, shuffle, number of workers, and collate function as arguments.\n",
    "    - `collate_fn` argument should be a function that defines how to combine individual samples into a batch."
   ]
  },
  {
   "cell_type": "code",
   "execution_count": null,
   "metadata": {},
   "outputs": [],
   "source": [
    "def get_dataloader() -> DataLoader:\n",
    "    # Your code here\n",
    "    pass"
   ]
  },
  {
   "cell_type": "markdown",
   "metadata": {},
   "source": [
    "### (EXTRA) Task: Build Dataset and DataLoader with PyTorch Lightning\n",
    "\n",
    "In this subtask, we will build the Dataset and DataLoader using PyTorch Lightning.\n",
    "\n",
    "The `pl.LightningDataModule` class should define methods for setting up the data, creating data loaders, and handling data collation. Here's a brief overview of the expected behavior of the `pl.LightningDataModule`:\n",
    "\n",
    "- Data Setup: The setup method is responsible for any necessary setup steps before training, validation, or testing. This can include downloading datasets, preprocessing data, or any other data-related initialization. It is called automatically by PyTorch Lightning.\n",
    "\n",
    "- Data Collation: The `custom_collate_fn` method is used to define a custom collation function for the data. This function is responsible for combining individual data samples into batches. It is called by the data loaders during training, validation, and testing.\n",
    "\n",
    "- Data Loaders: The `train_dataloader`, `val_dataloader`, and `test_dataloader` methods are used to create data loaders for training, validation, and testing, respectively. These methods should return instances of `torch.utils.data.DataLoader` that provide batches of data to the model during training and evaluation.\n",
    "\n",
    "> _You can read more about [PyTorch Lightning](https://pytorch-lightning.readthedocs.io/en/latest/)._"
   ]
  },
  {
   "cell_type": "markdown",
   "metadata": {},
   "source": [
    "> **TASK: IMPLEMENT `InkmlDataModule` CLASS.**"
   ]
  },
  {
   "cell_type": "code",
   "execution_count": null,
   "metadata": {},
   "outputs": [],
   "source": [
    "class InkmlDataset_PL(pl.LightningDataModule):\n",
    "    \"\"\"\n",
    "    Pytorch Lightning DataModule for the InkmlDataset.\n",
    "    \"\"\"\n",
    "    def __init__(\n",
    "        self,\n",
    "        batch_size: int = 10,\n",
    "        workers: int = 5,\n",
    "        train_data: str = \"dataset/crohme2019_train.txt\",\n",
    "        val_data: str = \"dataset/crohme2019_valid.txt\",\n",
    "        test_data: str = \"dataset/crohme2019_test.txt\",\n",
    "        root_dir: str = \"dataset\",\n",
    "    ):\n",
    "        super().__init__()\n",
    "        self.batch_size = batch_size\n",
    "        self.workers = workers\n",
    "        self.train_data = train_data\n",
    "        self.val_data = val_data\n",
    "        self.test_data = test_data\n",
    "        self.root_dir = root_dir\n",
    "\n",
    "    def setup(self, stage=None):\n",
    "        # Your code here\n",
    "        pass\n",
    "\n",
    "    def custom_collate_fn(self, data):\n",
    "        # Your code here\n",
    "        pass\n",
    "\n",
    "    def train_dataloader(self) -> DataLoader:\n",
    "        pass\n",
    "\n",
    "    def val_dataloader(self) -> DataLoader:\n",
    "        pass\n",
    "\n",
    "    def test_dataloader(self) -> DataLoader:\n",
    "        pass\n",
    "\n"
   ]
  }
 ],
 "metadata": {
  "kernelspec": {
   "display_name": "maxvit",
   "language": "python",
   "name": "python3"
  },
  "language_info": {
   "codemirror_mode": {
    "name": "ipython",
    "version": 3
   },
   "file_extension": ".py",
   "mimetype": "text/x-python",
   "name": "python",
   "nbconvert_exporter": "python",
   "pygments_lexer": "ipython3",
   "version": "3.1.undefined"
  }
 },
 "nbformat": 4,
 "nbformat_minor": 2
}
