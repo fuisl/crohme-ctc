{
 "cells": [
  {
   "cell_type": "code",
   "execution_count": 61,
   "metadata": {},
   "outputs": [
    {
     "data": {
      "text/plain": [
       "LSTM_TemporalClassification_PL(\n",
       "  (model): LSTM_TemporalClassification(\n",
       "    (lstm): LSTM(3, 256, num_layers=2, batch_first=True, bidirectional=True)\n",
       "    (fc): Linear(in_features=512, out_features=109, bias=True)\n",
       "    (log_softmax): LogSoftmax(dim=2)\n",
       "  )\n",
       "  (criterion): CTCLoss()\n",
       ")"
      ]
     },
     "execution_count": 61,
     "metadata": {},
     "output_type": "execute_result"
    }
   ],
   "source": [
    "from data import InkmlDataset_PL\n",
    "from models.lstm_ctc import LSTM_TemporalClassification_PL\n",
    "from torchaudio.models.decoder import ctc_decoder\n",
    "import matplotlib.pyplot as plt\n",
    "import numpy as np\n",
    "from data import *\n",
    "\n",
    "model = LSTM_TemporalClassification_PL().load_from_checkpoint(\"logs/lstm_ctc/version_1/checkpoints/epoch=22-step=20470.ckpt\")\n",
    "dm = InkmlDataset_PL(root_dir=\"dataset/crohme2019\")\n",
    "dm.setup()\n",
    "# Set the model to evaluation mode\n",
    "model.eval()\n"
   ]
  },
  {
   "cell_type": "code",
   "execution_count": 62,
   "metadata": {},
   "outputs": [],
   "source": [
    "tokens = list(model.vocab.keys())\n",
    "beam_search = ctc_decoder(\n",
    "    lexicon=None,\n",
    "    tokens=tokens,\n",
    "    nbest=1,\n",
    "    blank_token='',\n",
    "    \n",
    ")"
   ]
  },
  {
   "cell_type": "code",
   "execution_count": 79,
   "metadata": {},
   "outputs": [
    {
     "data": {
      "text/plain": [
       "tensor([[[-1.5033e+01, -1.1522e+01, -2.3110e+01,  ..., -1.3642e+01,\n",
       "          -1.8725e+01, -1.9371e+01],\n",
       "         [-1.3232e-05, -2.5300e+01, -3.1322e+01,  ..., -2.6525e+01,\n",
       "          -3.6729e+01, -1.9148e+01],\n",
       "         [ 0.0000e+00, -2.7001e+01, -3.0315e+01,  ..., -2.9304e+01,\n",
       "          -3.4036e+01, -3.2203e+01],\n",
       "         ...,\n",
       "         [-2.3126e-05, -1.5770e+01, -2.3184e+01,  ..., -2.3086e+01,\n",
       "          -2.6213e+01, -2.3632e+01],\n",
       "         [-3.0811e-04, -1.3609e+01, -2.1048e+01,  ..., -1.9729e+01,\n",
       "          -2.1910e+01, -2.2553e+01],\n",
       "         [-7.1526e-07, -1.7247e+01, -2.4841e+01,  ..., -2.1787e+01,\n",
       "          -2.5513e+01, -2.7568e+01]]], device='cuda:0',\n",
       "       grad_fn=<LogSoftmaxBackward0>)"
      ]
     },
     "execution_count": 79,
     "metadata": {},
     "output_type": "execute_result"
    }
   ],
   "source": [
    "# x, y, lenx, leny = dm.test_dataset.__getitem__(0)\n",
    "path = 'dataset/crohme2019/crohme2019/valid/20_em_37.inkml'\n",
    "ink = Inkml(path)\n",
    "\n",
    "traces = ink.getTraces()\n",
    "combined_traces = np.vstack([np.array(trace)[:, :2] for trace in traces])\n",
    "delta_traces = np.diff(combined_traces, axis=0)\n",
    "zeros_filter = np.all(delta_traces == 0, axis=1)\n",
    "delta_traces = delta_traces[~zeros_filter]\n",
    "delta_traces = delta_traces / np.sqrt((np.square(delta_traces[:, 0]) + np.square(delta_traces[:, 1])))[:, np.newaxis]  # delta x, delta y --> delta x/sqrt(delta x^2 + delta y^2), delta y/sqrt(delta x^2 + delta y^2\n",
    "\n",
    "pen_up = [np.array([0] * len(trace)) for trace in traces]\n",
    "for _, arr in enumerate(pen_up):\n",
    "    arr[0] = 1\n",
    "\n",
    "combined_pen_up = np.concatenate(pen_up)[1:, np.newaxis][~zeros_filter]\n",
    "combined_traces = np.hstack([delta_traces, combined_pen_up])\n",
    "delta_traces_tensor = torch.tensor(combined_traces, dtype=torch.float32)\n",
    "\n",
    "# item = dm.train_dataset.__getitem__(6)\n",
    "\n",
    "output = model(delta_traces_tensor.unsqueeze(0).cuda())\n",
    "output"
   ]
  },
  {
   "cell_type": "code",
   "execution_count": 80,
   "metadata": {},
   "outputs": [
    {
     "name": "stdout",
     "output_type": "stream",
     "text": [
      "3 Right \\times Right 3 Sup 2 NoRel - Below 2 NoRel + Right 5 Right \\times Right t Right 5 Right ) Sup 2 NoRel - Below 2 NoRel = Right 3 Right \\times Right u 1 NoRel 2 NoRel - Below 2 NoRel + Right 5 Right \\times Right 0 Sub 2 NoRel 2 NoRel - Below 2 "
     ]
    },
    {
     "data": {
      "image/png": "[encoded data removed]",
      "text/plain": [
       "<Figure size 500x100 with 1 Axes>"
      ]
     },
     "metadata": {},
     "output_type": "display_data"
    }
   ],
   "source": [
    "normal_prob = np.exp(output.squeeze(0).cpu().detach().numpy())\n",
    "\n",
    "argmax = np.argmax(normal_prob, axis=1)\n",
    "argmax = [tokens[i] for i in argmax if i != 0]\n",
    "for i in argmax:\n",
    "    print(i, end=\" \")\n",
    "\n",
    "# print([np.array(trace)[:, :2].shape for trace in ink.getTraces()])\n",
    "\n",
    "plt.figure(figsize=(5,1))\n",
    "plt.rcParams['axes.facecolor'] = 'black'  # Set background color to black\n",
    "plt.axis('off')\n",
    "for trace in ink.getTraces():\n",
    "    trace_arr = np.array(trace)\n",
    "    plt.plot(trace_arr[:, 0], - trace_arr[:, 1]) # invert y coordinate"
   ]
  },
  {
   "cell_type": "code",
   "execution_count": 73,
   "metadata": {},
   "outputs": [
    {
     "name": "stdout",
     "output_type": "stream",
     "text": [
      "[[CTCHypothesis(tokens=tensor([101,  26, 108,  26,  45,  26,  45,  74,  32,  39,  32,  39,  45,  39,\n",
      "         45,  74,  32,  95, 108,  95,  45,  95,  45,   1,  32,  26,  32,   1,\n",
      "         32,  39,  32,   1,  32,  95, 101]), words=[], score=-1.6713729408642592, timesteps=tensor([  0,   1,  75,  76, 134, 135, 193, 194, 223, 224, 290, 291, 346, 347,\n",
      "        400, 401, 428, 429, 489, 490, 542, 543, 590, 591, 605, 606, 660, 661,\n",
      "        673, 674, 742, 743, 753, 754, 816], dtype=torch.int32))]]\n",
      "\n",
      "x Sub x NoRel x NoRel + Right y Right y NoRel y NoRel + Right z Sub z NoRel z NoRel - Right x Right - Right y Right - Right z\n"
     ]
    }
   ],
   "source": [
    "beam_search_output = beam_search(output.cpu())\n",
    "print(beam_search_output, end=\"\\n\\n\")\n",
    "\n",
    "output_str = \"\"\n",
    "for i in [tokens[i] for i in beam_search_output[0][0].tokens.numpy() if i != 0]:\n",
    "    output_str += i + \" \"\n",
    "\n",
    "print(output_str.replace(\"|\", \" \").strip())\n"
   ]
  }
 ],
 "metadata": {
  "kernelspec": {
   "display_name": "maxvit",
   "language": "python",
   "name": "python3"
  },
  "language_info": {
   "codemirror_mode": {
    "name": "ipython",
    "version": 3
   },
   "file_extension": ".py",
   "mimetype": "text/x-python",
   "name": "python",
   "nbconvert_exporter": "python",
   "pygments_lexer": "ipython3",
   "version": "3.10.14"
  }
 },
 "nbformat": 4,
 "nbformat_minor": 2
}
