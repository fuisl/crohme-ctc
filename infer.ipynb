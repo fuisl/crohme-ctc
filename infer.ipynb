{
 "cells": [
  {
   "cell_type": "code",
   "execution_count": 30,
   "metadata": {},
   "outputs": [
    {
     "data": {
      "text/plain": [
       "LSTM_TemporalClassification_PL(\n",
       "  (model): LSTM_TemporalClassification(\n",
       "    (lstm): LSTM(3, 256, num_layers=3, batch_first=True, bidirectional=True)\n",
       "    (fc): Linear(in_features=512, out_features=109, bias=True)\n",
       "    (log_softmax): LogSoftmax(dim=2)\n",
       "  )\n",
       "  (criterion): CTCLoss()\n",
       ")"
      ]
     },
     "execution_count": 30,
     "metadata": {},
     "output_type": "execute_result"
    }
   ],
   "source": [
    "from data import InkmlDataset_PL\n",
    "from models.lstm_ctc import LSTM_TemporalClassification_PL\n",
    "from torchaudio.models.decoder import ctc_decoder\n",
    "import matplotlib.pyplot as plt\n",
    "import numpy as np\n",
    "from data import *\n",
    "from torchmetrics.text import EditDistance\n",
    "\n",
    "# model = LSTM_TemporalClassification_PL().load_from_checkpoint(\"logs/lstm_ctc/version_1/checkpoints/epoch=22-step=20470.ckpt\")\n",
    "model = LSTM_TemporalClassification_PL(num_layers=3).load_from_checkpoint(\"logs/lstm_ctc/version_2/checkpoints/epoch=34-step=31150.ckpt\")\n",
    "dm = InkmlDataset_PL(root_dir=\"dataset/crohme2019\")\n",
    "dm.setup()\n",
    "# Set the model to evaluation mode\n",
    "model.eval()\n"
   ]
  },
  {
   "cell_type": "code",
   "execution_count": 40,
   "metadata": {},
   "outputs": [],
   "source": [
    "tokens = list(model.vocab.keys())\n",
    "beam_search = ctc_decoder(\n",
    "    lexicon=None,\n",
    "    tokens=tokens,\n",
    "    nbest=3,\n",
    "    blank_token='',\n",
    "    sil_token='',\n",
    "    unk_word='',\n",
    ")"
   ]
  },
  {
   "cell_type": "code",
   "execution_count": 22,
   "metadata": {},
   "outputs": [
    {
     "data": {
      "text/plain": [
       "tensor([[[-1.5751e+01, -1.4049e+01, -1.0481e+01,  ..., -1.8913e+01,\n",
       "          -2.6853e+01, -2.1745e+01],\n",
       "         [-5.9605e-07, -2.4145e+01, -3.4026e+01,  ..., -3.4242e+01,\n",
       "          -5.2653e+01, -2.4613e+01],\n",
       "         [-7.1526e-07, -2.5847e+01, -2.2222e+01,  ..., -3.1891e+01,\n",
       "          -4.7918e+01, -2.4253e+01],\n",
       "         ...,\n",
       "         [ 0.0000e+00, -3.2548e+01, -4.2134e+01,  ..., -4.3921e+01,\n",
       "          -6.2386e+01, -2.3966e+01],\n",
       "         [ 0.0000e+00, -3.4000e+01, -4.3617e+01,  ..., -4.5726e+01,\n",
       "          -6.2577e+01, -2.7541e+01],\n",
       "         [-3.9339e-06, -2.3779e+01, -3.4631e+01,  ..., -3.0814e+01,\n",
       "          -4.0822e+01, -1.4138e+01]]], device='cuda:0',\n",
       "       grad_fn=<LogSoftmaxBackward0>)"
      ]
     },
     "execution_count": 22,
     "metadata": {},
     "output_type": "execute_result"
    }
   ],
   "source": [
    "# x, y, lenx, leny = dm.test_dataset.__getitem__(0)\n",
    "path = 'dataset/crohme2019/crohme2019/valid/20_em_31.inkml'\n",
    "ink = Inkml(path)\n",
    "\n",
    "traces = ink.getTraces()\n",
    "combined_traces = np.vstack([np.array(trace)[:, :2] for trace in traces])\n",
    "delta_traces = np.diff(combined_traces, axis=0)\n",
    "zeros_filter = np.all(delta_traces == 0, axis=1)\n",
    "delta_traces = delta_traces[~zeros_filter]\n",
    "delta_traces = delta_traces / np.sqrt((np.square(delta_traces[:, 0]) + np.square(delta_traces[:, 1])))[:, np.newaxis]  # delta x, delta y --> delta x/sqrt(delta x^2 + delta y^2), delta y/sqrt(delta x^2 + delta y^2\n",
    "\n",
    "pen_up = [np.array([0] * len(trace)) for trace in traces]\n",
    "for _, arr in enumerate(pen_up):\n",
    "    arr[0] = 1\n",
    "\n",
    "combined_pen_up = np.concatenate(pen_up)[1:, np.newaxis][~zeros_filter]\n",
    "combined_traces = np.hstack([delta_traces, combined_pen_up])\n",
    "delta_traces_tensor = torch.tensor(combined_traces, dtype=torch.float32)\n",
    "\n",
    "# item = dm.train_dataset.__getitem__(6)\n",
    "\n",
    "output = model(delta_traces_tensor.unsqueeze(0).cuda())\n",
    "output"
   ]
  },
  {
   "cell_type": "code",
   "execution_count": 23,
   "metadata": {},
   "outputs": [
    {
     "name": "stdout",
     "output_type": "stream",
     "text": [
      "X Right x Sup - Right 1 NoRel = Right X Right - Right 1 Right \\times Right = Right F "
     ]
    },
    {
     "data": {
      "image/png": "[encoded data removed]",
      "text/plain": [
       "<Figure size 500x100 with 1 Axes>"
      ]
     },
     "metadata": {},
     "output_type": "display_data"
    }
   ],
   "source": [
    "normal_prob = np.exp(output.squeeze(0).cpu().detach().numpy())\n",
    "\n",
    "argmax = np.argmax(normal_prob, axis=1)\n",
    "argmax = [tokens[i] for i in argmax if i != 0]\n",
    "for i in argmax:\n",
    "    print(i, end=\" \")\n",
    "\n",
    "# print([np.array(trace)[:, :2].shape for trace in ink.getTraces()])\n",
    "\n",
    "plt.figure(figsize=(5,1))\n",
    "plt.rcParams['axes.facecolor'] = 'black'  # Set background color to black\n",
    "plt.axis('off')\n",
    "for trace in ink.getTraces():\n",
    "    trace_arr = np.array(trace)\n",
    "    plt.plot(trace_arr[:, 0], - trace_arr[:, 1]) # invert y coordinate"
   ]
  },
  {
   "cell_type": "code",
   "execution_count": 44,
   "metadata": {},
   "outputs": [
    {
     "name": "stdout",
     "output_type": "stream",
     "text": [
      "[[CTCHypothesis(tokens=tensor([49, 32, 26, 25,  1, 32, 47, 45, 93, 32, 49, 32,  1, 32, 47, 32,  2, 32,\n",
      "        93, 32, 56]), words=[], score=-3.727783366617757, timesteps=tensor([  1,  28,  29,  49,  50,  56,  57,  67,  68, 114, 115, 145, 146, 154,\n",
      "        155, 169, 170, 193, 194, 214, 215], dtype=torch.int32)), CTCHypothesis(tokens=tensor([49, 32, 49, 25,  1, 32, 47, 45, 93, 32, 49, 32,  1, 32, 47, 32,  2, 32,\n",
      "        93, 32, 56]), words=[], score=-4.20632348912676, timesteps=tensor([  1,  28,  29,  49,  50,  56,  57,  67,  68, 114, 115, 145, 146, 154,\n",
      "        155, 169, 170, 193, 194, 214, 215], dtype=torch.int32)), CTCHypothesis(tokens=tensor([49, 32, 26, 25,  1, 32, 47, 45, 93, 32, 26, 32,  1, 32, 47, 32,  2, 32,\n",
      "        93, 32, 56]), words=[], score=-4.2575670923562825, timesteps=tensor([  1,  28,  29,  49,  50,  56,  57,  67,  68, 114, 115, 145, 146, 154,\n",
      "        155, 169, 170, 193, 194, 214, 215], dtype=torch.int32))]]\n",
      "\n",
      "X Right x Sup - Right 1 NoRel = Right X Right - Right 1 Right \\times Right = Right F \n"
     ]
    },
    {
     "data": {
      "text/plain": [
       "CTCHypothesis(tokens=tensor([49, 32, 26, 25,  1, 32, 47, 45, 93, 32, 49, 32,  1, 32, 47, 32,  2, 32,\n",
       "        93, 32, 56]), words=[], score=-3.727783366617757, timesteps=tensor([  1,  28,  29,  49,  50,  56,  57,  67,  68, 114, 115, 145, 146, 154,\n",
       "        155, 169, 170, 193, 194, 214, 215], dtype=torch.int32))"
      ]
     },
     "execution_count": 44,
     "metadata": {},
     "output_type": "execute_result"
    }
   ],
   "source": [
    "beam_search_output = beam_search(output.cpu())\n",
    "print(beam_search_output, end=\"\\n\\n\")\n",
    "\n",
    "output_str = \"\"\n",
    "for i in [tokens[i] for i in beam_search_output[0][0].tokens.numpy() if i != 0]:\n",
    "    output_str += i + \" \"\n",
    "    \n",
    "output_str\n",
    "\n",
    "print(output_str)\n",
    "\n",
    "beam_search_output[0][0]\n",
    "\n",
    "# distance = EditDistance(output_str, )\n"
   ]
  },
  {
   "cell_type": "code",
   "execution_count": 49,
   "metadata": {},
   "outputs": [
    {
     "data": {
      "text/plain": [
       "'a b c'"
      ]
     },
     "execution_count": 49,
     "metadata": {},
     "output_type": "execute_result"
    }
   ],
   "source": [
    "\" \".join([\"a\", \"b\", \"c\"])"
   ]
  }
 ],
 "metadata": {
  "kernelspec": {
   "display_name": "maxvit",
   "language": "python",
   "name": "python3"
  },
  "language_info": {
   "codemirror_mode": {
    "name": "ipython",
    "version": 3
   },
   "file_extension": ".py",
   "mimetype": "text/x-python",
   "name": "python",
   "nbconvert_exporter": "python",
   "pygments_lexer": "ipython3",
   "version": "3.10.14"
  }
 },
 "nbformat": 4,
 "nbformat_minor": 2
}
