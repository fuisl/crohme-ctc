{
 "cells": [
  {
   "cell_type": "code",
   "execution_count": 14,
   "metadata": {},
   "outputs": [
    {
     "data": {
      "text/plain": [
       "LSTM_TemporalClassification_PL(\n",
       "  (model): LSTM_TemporalClassification(\n",
       "    (lstm): LSTM(3, 512, num_layers=3, batch_first=True, bidirectional=True)\n",
       "    (fc): Linear(in_features=1024, out_features=109, bias=True)\n",
       "    (log_softmax): LogSoftmax(dim=2)\n",
       "  )\n",
       "  (criterion): CTCLoss()\n",
       ")"
      ]
     },
     "execution_count": 14,
     "metadata": {},
     "output_type": "execute_result"
    }
   ],
   "source": [
    "from data import InkmlDataset_PL\n",
    "from models.lstm_ctc import LSTM_TemporalClassification_PL\n",
    "from torchaudio.models.decoder import ctc_decoder\n",
    "import matplotlib.pyplot as plt\n",
    "import numpy as np\n",
    "from data import *\n",
    "\n",
    "model = LSTM_TemporalClassification_PL(hidden_size=512).load_from_checkpoint(\"logs/lstm_ctc/version_0/checkpoints/epoch=31-step=28480.ckpt\")\n",
    "dm = InkmlDataset_PL(root_dir=\"dataset/crohme2019\")\n",
    "dm.setup()\n",
    "# Set the model to evaluation mode\n",
    "model.eval()\n"
   ]
  },
  {
   "cell_type": "code",
   "execution_count": 15,
   "metadata": {},
   "outputs": [],
   "source": [
    "tokens = list(model.vocab.keys())\n",
    "beam_search = ctc_decoder(\n",
    "    lexicon=None,\n",
    "    tokens=tokens,\n",
    "    nbest=1,\n",
    "    blank_token=''\n",
    ")"
   ]
  },
  {
   "cell_type": "code",
   "execution_count": 19,
   "metadata": {},
   "outputs": [],
   "source": [
    "# x, y, lenx, leny = dm.test_dataset.__getitem__(0)\n",
    "path = 'dataset/crohme2019/crohme2019/test/ISICal19_1207_em_846.inkml'\n",
    "ink = Inkml(path)\n",
    "\n",
    "traces = ink.getTraces()\n",
    "delta_traces = []\n",
    "pen_up = []\n",
    "for trace in traces:\n",
    "    trace = (\n",
    "        np.vstack([np.array(trace), np.array(trace)])\n",
    "        if len(trace) == 1\n",
    "        else trace\n",
    "    )\n",
    "    delta_trace = np.diff(trace, axis=0)\n",
    "    delta_traces.append(delta_trace[:, :2])\n",
    "    pen_up.append(np.zeros((len(delta_trace), 1)))\n",
    "    pen_up[-1][-1] = 1\n",
    "\n",
    "combined_traces = np.hstack([np.vstack(delta_traces), np.concatenate(pen_up)])\n",
    "delta_traces_tensor = torch.tensor(combined_traces, dtype=torch.float32)\n",
    "\n",
    "input_tensor = delta_traces_tensor.unsqueeze(0).cuda()"
   ]
  },
  {
   "cell_type": "code",
   "execution_count": 20,
   "metadata": {},
   "outputs": [
    {
     "data": {
      "text/plain": [
       "torch.Size([1, 854, 109])"
      ]
     },
     "execution_count": 20,
     "metadata": {},
     "output_type": "execute_result"
    }
   ],
   "source": [
    "output = model(input_tensor)\n",
    "output.shape"
   ]
  },
  {
   "cell_type": "code",
   "execution_count": 21,
   "metadata": {},
   "outputs": [
    {
     "name": "stdout",
     "output_type": "stream",
     "text": [
      "\\log Sub x Right + Right \\int Right \\int Right \\log Right \\log Right \\log Right \\log Right - Right Right Right Right Right Right Right Right Right Right Right Right Right Right Right Right Right "
     ]
    },
    {
     "data": {
      "image/png": "[encoded data removed]",
      "text/plain": [
       "<Figure size 500x100 with 1 Axes>"
      ]
     },
     "metadata": {},
     "output_type": "display_data"
    }
   ],
   "source": [
    "normal_prob = np.exp(output.squeeze(0).cpu().detach().numpy())\n",
    "\n",
    "argmax = np.argmax(normal_prob, axis=1)\n",
    "argmax = [tokens[i] for i in argmax if i != 0]\n",
    "for i in argmax:\n",
    "    print(i, end=\" \")\n",
    "\n",
    "# print([np.array(trace)[:, :2].shape for trace in ink.getTraces()])\n",
    "\n",
    "plt.figure(figsize=(5,1))\n",
    "plt.rcParams['axes.facecolor'] = 'black'  # Set background color to black\n",
    "plt.axis('off')\n",
    "for trace in ink.getTraces():\n",
    "    trace_arr = np.array(trace)\n",
    "    plt.plot(trace_arr[:, 0], - trace_arr[:, 1]) # invert y coordinate"
   ]
  },
  {
   "cell_type": "code",
   "execution_count": 30,
   "metadata": {},
   "outputs": [
    {
     "name": "stdout",
     "output_type": "stream",
     "text": [
      "[[CTCHypothesis(tokens=tensor([101,  34, 108,  26,  32,  74,  32,  29,  32,  29,  32,  34,  32,  34,\n",
      "         32,  34,  32,  34,  32,   1,  32, 101]), words=[], score=-43.01595471293331, timesteps=tensor([  0,   1,   2,   3,   4,   5,   6,   7,   8,   9,  10,  11,  12,  13,\n",
      "         14,  15,  16,  17,  18,  19,  20, 855], dtype=torch.int32))]]\n"
     ]
    }
   ],
   "source": [
    "beam_search_output = beam_search(output.cpu())\n",
    "print(beam_search_output)"
   ]
  }
 ],
 "metadata": {
  "kernelspec": {
   "display_name": "maxvit",
   "language": "python",
   "name": "python3"
  },
  "language_info": {
   "codemirror_mode": {
    "name": "ipython",
    "version": 3
   },
   "file_extension": ".py",
   "mimetype": "text/x-python",
   "name": "python",
   "nbconvert_exporter": "python",
   "pygments_lexer": "ipython3",
   "version": "3.10.14"
  }
 },
 "nbformat": 4,
 "nbformat_minor": 2
}
